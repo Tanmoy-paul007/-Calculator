{
 "cells": [
  {
   "cell_type": "code",
   "execution_count": 120,
   "id": "a408d1a2",
   "metadata": {},
   "outputs": [],
   "source": [
    "from tkinter import *\n",
    "# import parser\n",
    "from math import factorial"
   ]
  },
  {
   "cell_type": "code",
   "execution_count": 121,
   "id": "74106392",
   "metadata": {},
   "outputs": [
    {
     "data": {
      "text/plain": [
       "''"
      ]
     },
     "execution_count": 121,
     "metadata": {},
     "output_type": "execute_result"
    }
   ],
   "source": [
    "root = Tk()\n",
    "root.title('DataFlair - Calculator')\n"
   ]
  },
  {
   "cell_type": "code",
   "execution_count": 122,
   "id": "d61a3760",
   "metadata": {},
   "outputs": [],
   "source": [
    "i = 0"
   ]
  },
  {
   "cell_type": "code",
   "execution_count": 123,
   "id": "aa59f2ce",
   "metadata": {},
   "outputs": [],
   "source": [
    "display = Entry(root, font=(\"Arial\", 40), bg='lightyellow', fg='blue', relief=SUNKEN, bd=10, insertwidth=5, width=10, justify='right')\n",
    "display.grid(row=1, columnspan=6, sticky=N+E+W+S, padx=5, pady=10)"
   ]
  },
  {
   "cell_type": "code",
   "execution_count": 124,
   "id": "fa2fc394",
   "metadata": {},
   "outputs": [],
   "source": [
    "def get_variables(num):\n",
    "    global i \n",
    "    display.insert(i, str(num))\n",
    "    i = i+1"
   ]
  },
  {
   "cell_type": "code",
   "execution_count": 125,
   "id": "8a0b1234",
   "metadata": {},
   "outputs": [],
   "source": [
    "def get_operation(operator):\n",
    "    global i\n",
    "    display.insert(i, operator)\n",
    "    i = i + len(operator)"
   ]
  },
  {
   "cell_type": "code",
   "execution_count": 126,
   "id": "cf0d2aa9",
   "metadata": {},
   "outputs": [],
   "source": [
    "def clear_all():\n",
    "    global i\n",
    "    display.delete(0, END)\n",
    "    i = 0"
   ]
  },
  {
   "cell_type": "code",
   "execution_count": 127,
   "id": "7cf8a7e5",
   "metadata": {},
   "outputs": [],
   "source": [
    "def undo():\n",
    "    global i\n",
    "    current_text = display.get()\n",
    "    if current_text:\n",
    "        display.delete(0, END)\n",
    "        display.insert(0, current_text[:-1])\n",
    "        i = i-1\n",
    "    else :\n",
    "        display.insert(0, \"Error\")"
   ]
  },
  {
   "cell_type": "code",
   "execution_count": 128,
   "id": "e5ff98c5",
   "metadata": {},
   "outputs": [],
   "source": [
    "def calculat():\n",
    "    global i\n",
    "    try:\n",
    "        result = eval(display.get())\n",
    "        clear_all()\n",
    "        display.insert(0, result)\n",
    "        i = i+ len(str(result))\n",
    "    except:\n",
    "        clear_all()\n",
    "        display.insert(0,\"Error\")"
   ]
  },
  {
   "cell_type": "code",
   "execution_count": 129,
   "id": "99e882f9",
   "metadata": {},
   "outputs": [],
   "source": [
    "def facto():\n",
    "    # global i\n",
    "    try:\n",
    "        value = int(display.get())\n",
    "        result = factorial(value)\n",
    "        clear_all()\n",
    "        display.insert(0, result)\n",
    "        # i = i+ len(result)\n",
    "    except:\n",
    "        clear_all()\n",
    "        display.insert(0, \"Error\")"
   ]
  },
  {
   "cell_type": "code",
   "execution_count": 130,
   "id": "1d6744af",
   "metadata": {},
   "outputs": [],
   "source": [
    "Number = [ (1,2,0), (2,2,1), (3,2,2),\n",
    "          (4,3,0), (5,3,1), (6,3,2),\n",
    "          (7,4,0), (8,4,1), (9,4,2), (0,5,1)]\n",
    "for (num , r , c ) in Number:\n",
    "    Button(root, text=str(num), font=(\"Arial\", 18), height=2, width=6, command=lambda n=num: get_variables(n)) .grid(row=r, column=c, sticky=N+S+E+W, padx=3, pady=3)"
   ]
  },
  {
   "cell_type": "code",
   "execution_count": 131,
   "id": "897e037f",
   "metadata": {},
   "outputs": [],
   "source": [
    "Button(root, text=\".\",font=(\"Arial\", 18), height=2, width=6, command=lambda: get_variables(\".\")) .grid(row=5, column=2, sticky=N+S+E+W, padx=3, pady=3)\n",
    "Button(root, text=\"+\",font=(\"Arial\", 18), height=2, width=6, command=lambda: get_operation(\"+\")) .grid(row=2, column=3, sticky=N+S+E+W, padx=3, pady=3)\n",
    "Button(root, text=\"Pi\",font=(\"Arial\", 18), height=2, width=6, command=lambda: get_operation(\"*3.14\")) .grid(row=2, column=4, sticky=N+S+E+W, padx=3, pady=3)\n",
    "Button(root, text=\"-\",font=(\"Arial\", 18), height=2, width=6, command=lambda: get_operation(\"-\")) .grid(row=3, column=3, sticky=N+S+E+W, padx=3, pady=3)\n",
    "Button(root, text=\"%\",font=(\"Arial\", 18), height=2, width=6, command=lambda: get_operation(\"%\")) .grid(row=3, column=4, sticky=N+S+E+W, padx=3, pady=3)\n",
    "Button(root, text=\"*\",font=(\"Arial\", 18), height=2, width=6, command=lambda: get_operation(\"*\")) .grid(row=4, column=3, sticky=N+S+E+W, padx=3, pady=3)\n",
    "Button(root, text=\"(\",font=(\"Arial\", 18), height=2, width=6, command=lambda: get_operation(\"(\")) .grid(row=4, column=4, sticky=N+S+E+W, padx=3, pady=3)\n",
    "Button(root, text=\")\",font=(\"Arial\", 18), height=2, width=6, command=lambda: get_operation(\")\")) .grid(row=4, column=5, sticky=N+S+E+W, padx=3, pady=3)\n",
    "Button(root, text=\"/\",font=(\"Arial\", 18), height=2, width=6, command=lambda: get_operation(\"/\")) .grid(row=5, column=3, sticky=N+S+E+W, padx=3, pady=3)\n",
    "Button(root, text=\"Exp\",font=(\"Arial\", 18), height=2, width=6, command=lambda: get_operation(\"**\")) .grid(row=5, column=4, sticky=N+S+E+W, padx=3, pady=3)\n",
    "Button(root, text=\"^2\",font=(\"Arial\", 18), height=2, width=6, command=lambda: get_operation(\"**2\")) .grid(row=5, column=5, sticky=N+S+E+W, padx=3, pady=3)"
   ]
  },
  {
   "cell_type": "code",
   "execution_count": 132,
   "id": "dc61ba46",
   "metadata": {},
   "outputs": [],
   "source": [
    "Button(root, text=\"AC\",font=(\"Arial\", 18), height=2, width=6, command=clear_all).grid(row=5, column=0, sticky=N+S+E+W, padx=3, pady=3)\n",
    "Button(root, text=\"<-\",font=(\"Arial\", 18), height=2, width=6, command=undo).grid(row=2, column=5, sticky=N+S+E+W, padx=3, pady=3)\n",
    "Button(root, text=\"x!\",font=(\"Arial\", 18), height=2, width=6, command=facto).grid(row=3, column=5, sticky=N+S+E+W, padx=3, pady=3)\n",
    "Button(root, text=\"=\",font=(\"Arial\", 18), height=2, width=6, command=calculat).grid(row=6, columnspan=6, sticky=N+S+E+W, padx=3, pady=3)"
   ]
  },
  {
   "cell_type": "code",
   "execution_count": 133,
   "id": "79f41110",
   "metadata": {},
   "outputs": [],
   "source": [
    "root.mainloop()"
   ]
  }
 ],
 "metadata": {
  "kernelspec": {
   "display_name": "Python 3",
   "language": "python",
   "name": "python3"
  },
  "language_info": {
   "codemirror_mode": {
    "name": "ipython",
    "version": 3
   },
   "file_extension": ".py",
   "mimetype": "text/x-python",
   "name": "python",
   "nbconvert_exporter": "python",
   "pygments_lexer": "ipython3",
   "version": "3.13.5"
  }
 },
 "nbformat": 4,
 "nbformat_minor": 5
}
